{
 "cells": [
  {
   "cell_type": "code",
   "execution_count": 39,
   "id": "9ba5402d",
   "metadata": {},
   "outputs": [],
   "source": [
    "from gensim import corpora,models,similarities\n",
    "from gensim.utils import tokenize\n",
    "from gensim.parsing.preprocessing import remove_stopwords, STOPWORDS\n",
    "import os\n",
    "import pandas as pd\n",
    "import re\n",
    "import seaborn as sns\n",
    "import matplotlib\n",
    "from matplotlib import pyplot as plt\n",
    "matplotlib.style.use('ggplot')\n",
    "%matplotlib inline\n",
    "sns.set(rc={'figure.figsize':(24, 12)})\n",
    "from string import punctuation\n",
    "import pymorphy2\n",
    "from nltk.corpus import stopwords\n",
    "import seaborn as sns\n",
    "from tqdm.auto import tqdm, trange"
   ]
  },
  {
   "cell_type": "code",
   "execution_count": 2,
   "id": "a6758497",
   "metadata": {},
   "outputs": [],
   "source": [
    "morph = pymorphy2.MorphAnalyzer()"
   ]
  },
  {
   "cell_type": "markdown",
   "id": "92c3dcf6",
   "metadata": {},
   "source": [
    "## Загрузка датасета и тестового набора и исследование данных"
   ]
  },
  {
   "cell_type": "code",
   "execution_count": 3,
   "id": "d4ee56ee",
   "metadata": {},
   "outputs": [],
   "source": [
    "df = pd.read_csv(\"train_dataset_train.csv\")\n",
    "test = pd.read_csv(\"test_dataset_test+.csv\")"
   ]
  },
  {
   "cell_type": "code",
   "execution_count": 4,
   "id": "b4271664",
   "metadata": {},
   "outputs": [
    {
     "data": {
      "text/html": [
       "<div>\n",
       "<style scoped>\n",
       "    .dataframe tbody tr th:only-of-type {\n",
       "        vertical-align: middle;\n",
       "    }\n",
       "\n",
       "    .dataframe tbody tr th {\n",
       "        vertical-align: top;\n",
       "    }\n",
       "\n",
       "    .dataframe thead th {\n",
       "        text-align: right;\n",
       "    }\n",
       "</style>\n",
       "<table border=\"1\" class=\"dataframe\">\n",
       "  <thead>\n",
       "    <tr style=\"text-align: right;\">\n",
       "      <th></th>\n",
       "      <th>Текст Сообщения</th>\n",
       "      <th>Тематика</th>\n",
       "      <th>Ответственное лицо</th>\n",
       "    </tr>\n",
       "  </thead>\n",
       "  <tbody>\n",
       "    <tr>\n",
       "      <th>count</th>\n",
       "      <td>2000</td>\n",
       "      <td>2000</td>\n",
       "      <td>2000</td>\n",
       "    </tr>\n",
       "    <tr>\n",
       "      <th>unique</th>\n",
       "      <td>1974</td>\n",
       "      <td>161</td>\n",
       "      <td>75</td>\n",
       "    </tr>\n",
       "    <tr>\n",
       "      <th>top</th>\n",
       "      <td>Свалка мусора</td>\n",
       "      <td>Нарушение дорожного покрытия (ямы)  на дорогах...</td>\n",
       "      <td>Администрация города Курска</td>\n",
       "    </tr>\n",
       "    <tr>\n",
       "      <th>freq</th>\n",
       "      <td>8</td>\n",
       "      <td>155</td>\n",
       "      <td>421</td>\n",
       "    </tr>\n",
       "  </tbody>\n",
       "</table>\n",
       "</div>"
      ],
      "text/plain": [
       "       Текст Сообщения                                           Тематика  \\\n",
       "count             2000                                               2000   \n",
       "unique            1974                                                161   \n",
       "top      Свалка мусора  Нарушение дорожного покрытия (ямы)  на дорогах...   \n",
       "freq                 8                                                155   \n",
       "\n",
       "                 Ответственное лицо  \n",
       "count                          2000  \n",
       "unique                           75  \n",
       "top     Администрация города Курска  \n",
       "freq                            421  "
      ]
     },
     "execution_count": 4,
     "metadata": {},
     "output_type": "execute_result"
    }
   ],
   "source": [
    "df.describe(include=object)"
   ]
  },
  {
   "cell_type": "code",
   "execution_count": 41,
   "id": "9e3e37be",
   "metadata": {},
   "outputs": [
    {
     "data": {
      "image/png": "[encoded data removed]",
      "text/plain": [
       "<Figure size 1728x864 with 1 Axes>"
      ]
     },
     "metadata": {},
     "output_type": "display_data"
    }
   ],
   "source": [
    "sns.histplot(x=df['Категория'])\n",
    "plt.savefig('Cat')"
   ]
  },
  {
   "cell_type": "code",
   "execution_count": 7,
   "id": "f4309f2a",
   "metadata": {},
   "outputs": [],
   "source": [
    "labels = df['Категория'].unique()"
   ]
  },
  {
   "cell_type": "code",
   "execution_count": 8,
   "id": "595fb503",
   "metadata": {},
   "outputs": [
    {
     "data": {
      "text/html": [
       "<div>\n",
       "<style scoped>\n",
       "    .dataframe tbody tr th:only-of-type {\n",
       "        vertical-align: middle;\n",
       "    }\n",
       "\n",
       "    .dataframe tbody tr th {\n",
       "        vertical-align: top;\n",
       "    }\n",
       "\n",
       "    .dataframe thead th {\n",
       "        text-align: right;\n",
       "    }\n",
       "</style>\n",
       "<table border=\"1\" class=\"dataframe\">\n",
       "  <thead>\n",
       "    <tr style=\"text-align: right;\">\n",
       "      <th></th>\n",
       "      <th>Текст Сообщения</th>\n",
       "      <th>Категория</th>\n",
       "    </tr>\n",
       "  </thead>\n",
       "  <tbody>\n",
       "    <tr>\n",
       "      <th>0</th>\n",
       "      <td>Помогите начальник Льговского рэс не реагирует...</td>\n",
       "      <td>3</td>\n",
       "    </tr>\n",
       "    <tr>\n",
       "      <th>1</th>\n",
       "      <td>&lt;p&gt;По фасаду дома по адресу ул. Урицкого 22 пр...</td>\n",
       "      <td>3</td>\n",
       "    </tr>\n",
       "    <tr>\n",
       "      <th>2</th>\n",
       "      <td>Агресивные собаки. На радуге там стая из подро...</td>\n",
       "      <td>1</td>\n",
       "    </tr>\n",
       "    <tr>\n",
       "      <th>3</th>\n",
       "      <td>&lt;p&gt;На пересечении &amp;nbsp;улиц Сосновская и Бере...</td>\n",
       "      <td>3</td>\n",
       "    </tr>\n",
       "    <tr>\n",
       "      <th>4</th>\n",
       "      <td>&lt;p style=`text-align:justify;`&gt;&lt;span style=`ba...</td>\n",
       "      <td>3</td>\n",
       "    </tr>\n",
       "  </tbody>\n",
       "</table>\n",
       "</div>"
      ],
      "text/plain": [
       "                                     Текст Сообщения  Категория\n",
       "0  Помогите начальник Льговского рэс не реагирует...          3\n",
       "1  <p>По фасаду дома по адресу ул. Урицкого 22 пр...          3\n",
       "2  Агресивные собаки. На радуге там стая из подро...          1\n",
       "3  <p>На пересечении &nbsp;улиц Сосновская и Бере...          3\n",
       "4  <p style=`text-align:justify;`><span style=`ba...          3"
      ]
     },
     "execution_count": 8,
     "metadata": {},
     "output_type": "execute_result"
    }
   ],
   "source": [
    "# Создаем датасет, сливаем текстовые колонки, убираем ненужные колонки\n",
    "data = df.drop(columns=['id', 'Тематика', 'Ответственное лицо']) # Удаление столбца с ID\n",
    "test_d = test.drop(columns=['id', 'Тематика', 'Ответственное лицо']) # Удаление столбца с ID\n",
    "data.head()"
   ]
  },
  {
   "cell_type": "code",
   "execution_count": 9,
   "id": "c809b7f8",
   "metadata": {},
   "outputs": [
    {
     "name": "stdout",
     "output_type": "stream",
     "text": [
      "Количество строк (объектов) 2000\n",
      "Количество cлов в строке 51.445\n",
      "Соотношение:  38.8764700165225\n"
     ]
    }
   ],
   "source": [
    "# Подсчет соотношения часла строк к число слов в строке\n",
    "number_of_samples = len(data)\n",
    "print(\"Количество строк (объектов)\" , number_of_samples)\n",
    "\n",
    "number_of_words = 0\n",
    "for index, row in data.iterrows():\n",
    "    words = row['Текст Сообщения'].split()\n",
    "    number_of_words += len(words)\n",
    "number_of_words_per_sample = number_of_words / len(data)\n",
    "print(\"Количество cлов в строке\" , number_of_words_per_sample)\n",
    "\n",
    "ratio = number_of_samples / number_of_words_per_sample\n",
    "print(\"Соотношение: \" , ratio)\n",
    "\n",
    "# Проводим выбор метода машинного обучения (модели) на основе вычисленного показателя"
   ]
  },
  {
   "cell_type": "markdown",
   "id": "74553a68",
   "metadata": {},
   "source": [
    "## Обработка текста сообщения и удаление лишних символов"
   ]
  },
  {
   "cell_type": "code",
   "execution_count": 10,
   "id": "7924b253",
   "metadata": {},
   "outputs": [
    {
     "data": {
      "text/html": [
       "<div>\n",
       "<style scoped>\n",
       "    .dataframe tbody tr th:only-of-type {\n",
       "        vertical-align: middle;\n",
       "    }\n",
       "\n",
       "    .dataframe tbody tr th {\n",
       "        vertical-align: top;\n",
       "    }\n",
       "\n",
       "    .dataframe thead th {\n",
       "        text-align: right;\n",
       "    }\n",
       "</style>\n",
       "<table border=\"1\" class=\"dataframe\">\n",
       "  <thead>\n",
       "    <tr style=\"text-align: right;\">\n",
       "      <th></th>\n",
       "      <th>Текст Сообщения</th>\n",
       "      <th>text_processed</th>\n",
       "    </tr>\n",
       "  </thead>\n",
       "  <tbody>\n",
       "    <tr>\n",
       "      <th>0</th>\n",
       "      <td>&lt;p&gt;Здравствуйте. На улице Мира &amp;nbsp;было заме...</td>\n",
       "      <td>здравствуйте на улице мира было заменено нару...</td>\n",
       "    </tr>\n",
       "    <tr>\n",
       "      <th>1</th>\n",
       "      <td>&lt;p&gt;Уже вторую неделю не горит уличное освещени...</td>\n",
       "      <td>уже вторую неделю не горит уличное освещение</td>\n",
       "    </tr>\n",
       "    <tr>\n",
       "      <th>2</th>\n",
       "      <td>Не работает освещение во дворе дома 11а по Эне...</td>\n",
       "      <td>не работает освещение во дворе дома а по энерг...</td>\n",
       "    </tr>\n",
       "    <tr>\n",
       "      <th>3</th>\n",
       "      <td>После покоса сорной растительности на газоне м...</td>\n",
       "      <td>после покоса сорной растительности на газоне м...</td>\n",
       "    </tr>\n",
       "    <tr>\n",
       "      <th>4</th>\n",
       "      <td>&lt;p&gt;Прошу принять меры к водителю маршрута 263:...</td>\n",
       "      <td>прошу принять меры к водителю маршрута пос се...</td>\n",
       "    </tr>\n",
       "  </tbody>\n",
       "</table>\n",
       "</div>"
      ],
      "text/plain": [
       "                                     Текст Сообщения  \\\n",
       "0  <p>Здравствуйте. На улице Мира &nbsp;было заме...   \n",
       "1  <p>Уже вторую неделю не горит уличное освещени...   \n",
       "2  Не работает освещение во дворе дома 11а по Эне...   \n",
       "3  После покоса сорной растительности на газоне м...   \n",
       "4  <p>Прошу принять меры к водителю маршрута 263:...   \n",
       "\n",
       "                                      text_processed  \n",
       "0   здравствуйте на улице мира было заменено нару...  \n",
       "1      уже вторую неделю не горит уличное освещение   \n",
       "2  не работает освещение во дворе дома а по энерг...  \n",
       "3  после покоса сорной растительности на газоне м...  \n",
       "4   прошу принять меры к водителю маршрута пос се...  "
      ]
     },
     "execution_count": 10,
     "metadata": {},
     "output_type": "execute_result"
    }
   ],
   "source": [
    "# Удаление символов пунктуации\n",
    "def remove_punctuation(my_string):\n",
    "    return \"\".join([ch if ch not in punctuation else ' ' for ch in my_string]) # Замена на пробелы!!!\n",
    "\n",
    "# Удаление латинских и прочих символов\n",
    "def remove_symbols(my_string):\n",
    "    l = \"<>!&abcdefghijklmnoprstuvqwxyz-=/`:;!“”‚#$%&;()*+,-—./:;&lt;=>?@[\\\\]^_`{|}~\\t\\n\\xa0\"\n",
    "    return \"\".join([ch for ch in my_string if ch not in l]) # Замена на пробелы!!!\n",
    "\n",
    "# Удаление чисел\n",
    "def remove_numbers(my_string):\n",
    "    return ''.join([i if not i.isdigit() else ' ' for i in my_string])\n",
    "\n",
    "# Замена множественных пробелов на одинарный пробел\n",
    "import re\n",
    "def remove_multiple_spaces(my_string):\n",
    "    return re.sub(r'\\s+', ' ', my_string, flags=re.I)\n",
    "\n",
    "# Обработка строк + дополнительно приведение к нижнему регистру\n",
    "preproccessing = lambda text: (remove_multiple_spaces(remove_numbers(remove_symbols(remove_punctuation(text.lower()))))) \n",
    "\n",
    "# Создаем колонку в датасете для обработанного текста\n",
    "data['text_processed'] = list(map(preproccessing, data['Текст Сообщения']))\n",
    "test_d['text_processed'] = list(map(preproccessing, test_d['Текст Сообщения']))\n",
    "test_d.head()"
   ]
  },
  {
   "cell_type": "markdown",
   "id": "d7831de3",
   "metadata": {},
   "source": [
    "## Лемматизация"
   ]
  },
  {
   "cell_type": "code",
   "execution_count": 14,
   "id": "fd8200cd",
   "metadata": {},
   "outputs": [
    {
     "name": "stderr",
     "output_type": "stream",
     "text": [
      "[nltk_data] Error loading stopwords: <urlopen error [WinError 10061]\n",
      "[nltk_data]     Подключение не установлено, т.к. конечный компьютер\n",
      "[nltk_data]     отверг запрос на подключение>\n",
      "[nltk_data] Error loading punkt: <urlopen error [WinError 10061]\n",
      "[nltk_data]     Подключение не установлено, т.к. конечный компьютер\n",
      "[nltk_data]     отверг запрос на подключение>\n"
     ]
    }
   ],
   "source": [
    "# NLTK - библиотек Python для решения задач обработки естественного языка\n",
    "import nltk\n",
    "\n",
    "from nltk.stem.snowball import SnowballStemmer    # Стеммер Porter2 - новая версия стеммера Портера\n",
    "from nltk.corpus import stopwords                 # Библиотека стоп-слов\n",
    "from nltk import word_tokenize                    # Токенизатор\n",
    "\n",
    "nltk.download('stopwords')                        # Загрузка стоп-слов\n",
    "nltk.download('punkt')                            # Загрузка символов пунктуации\n",
    "stemmer = SnowballStemmer(\"russian\")  "
   ]
  },
  {
   "cell_type": "code",
   "execution_count": 15,
   "id": "0168bb9e",
   "metadata": {},
   "outputs": [],
   "source": [
    "russian_stopwords = stopwords.words(\"russian\")    # Список стоп-слов для русского языка\n",
    "# Расширение списка стоп-слов (см. набор данных)\n",
    "russian_stopwords.extend(['…', '«', '»', '...', 'т.д.', 'т', 'д', 'nan', 'аба', 'ан', 'ахз', 'аж', 'алит', 'авокруг', 'эт',\n",
    "                         'этот', 'который', 'ым', 'которого', 'это', 'эп', 'эл', 'хх', 'добро', 'дол', 'др', 'зато', 'ибо',\n",
    "                         'иначе', 'иной', 'итд', 'каков', 'какой', 'ка', 'хс', 'ещё', 'часто', 'мы', 'цо', 'пр'])"
   ]
  },
  {
   "cell_type": "code",
   "execution_count": 16,
   "id": "dcfdc903",
   "metadata": {},
   "outputs": [
    {
     "data": {
      "application/vnd.jupyter.widget-view+json": {
       "model_id": "aa7d6ae82fc246acac77b9520c67bc17",
       "version_major": 2,
       "version_minor": 0
      },
      "text/plain": [
       "  0%|          | 0/2000 [00:00<?, ?it/s]"
      ]
     },
     "metadata": {},
     "output_type": "display_data"
    },
    {
     "data": {
      "text/plain": [
       "'помочь начальник льговский рэс реагировать жалоба малый ветер сидеть свет именно деревня больший угон улица старый слобода пожалуйста помочь пускай вычистить фотоотчёт сделать'"
      ]
     },
     "execution_count": 16,
     "metadata": {},
     "output_type": "execute_result"
    }
   ],
   "source": [
    "# Провердим лемматизацию и избавляемся от стоп-слов\n",
    "lemm_texts_column = []\n",
    "for text in tqdm(data['text_processed']):\n",
    "    tokens = word_tokenize(text)    \n",
    "    lemmed_tokens = [morph.parse(token)[0].normal_form for token in tokens if token not in russian_stopwords]\n",
    "    text = \" \".join(lemmed_tokens)\n",
    "    lemm_texts_column.append(text)\n",
    "    \n",
    "# Создаем новую колонку в наборе данных\n",
    "data['text_lemmed'] = lemm_texts_column\n",
    "\n",
    "data['text_lemmed'][0]"
   ]
  },
  {
   "cell_type": "code",
   "execution_count": 17,
   "id": "64d450a7",
   "metadata": {},
   "outputs": [
    {
     "data": {
      "application/vnd.jupyter.widget-view+json": {
       "model_id": "d5bae8dfb8464a88ba920e22b8f3eb35",
       "version_major": 2,
       "version_minor": 0
      },
      "text/plain": [
       "  0%|          | 0/1000 [00:00<?, ?it/s]"
      ]
     },
     "metadata": {},
     "output_type": "display_data"
    },
    {
     "data": {
      "text/plain": [
       "'здравствуйте улица мир заменить наружное освещение именно заменить лампа энергосберегающий лампа протяжение несколько месяц освещение улица отсутствовать последний улица осветить зима приблизительно каждый день человек работать часовой смена многие возвращаться очень поздно дать проблема улица посёлок'"
      ]
     },
     "execution_count": 17,
     "metadata": {},
     "output_type": "execute_result"
    }
   ],
   "source": [
    "# Провердим лемматизацию и избавляемся от стоп-слов в  тестовом наборе\n",
    "lemm_texts_column = []\n",
    "for text in tqdm(test_d['text_processed']):\n",
    "    tokens = word_tokenize(text)    \n",
    "    lemmed_tokens = [morph.parse(token)[0].normal_form for token in tokens if token not in russian_stopwords]\n",
    "    text = \" \".join(lemmed_tokens)\n",
    "    lemm_texts_column.append(text)\n",
    "    \n",
    "# Создаем новую колонку в наборе данных\n",
    "test_d['text_lemmed'] = lemm_texts_column\n",
    "\n",
    "test_d['text_lemmed'][0]"
   ]
  },
  {
   "cell_type": "markdown",
   "id": "09ee1452",
   "metadata": {},
   "source": [
    "## Мешок слов¶"
   ]
  },
  {
   "cell_type": "code",
   "execution_count": 18,
   "id": "d6afdabc",
   "metadata": {},
   "outputs": [],
   "source": [
    "# CountVectorizer - класс конвертации текста в матрицу токенов\n",
    "from sklearn.feature_extraction.text import CountVectorizer"
   ]
  },
  {
   "cell_type": "code",
   "execution_count": 20,
   "id": "4be6298a",
   "metadata": {},
   "outputs": [
    {
     "data": {
      "text/plain": [
       "(2000, 8412)"
      ]
     },
     "execution_count": 20,
     "metadata": {},
     "output_type": "execute_result"
    }
   ],
   "source": [
    "# Создание матрицы признаков на основе мешка слов\n",
    "count = CountVectorizer(ngram_range=(1, 1))\n",
    "bag_of_words = count.fit_transform(data['text_lemmed'])\n",
    "bag_of_words.toarray().shape"
   ]
  },
  {
   "cell_type": "markdown",
   "id": "d52fe258",
   "metadata": {},
   "source": [
    "## Взвешивание важности слов - TF-IDF"
   ]
  },
  {
   "cell_type": "code",
   "execution_count": 21,
   "id": "50ff03e1",
   "metadata": {},
   "outputs": [],
   "source": [
    "# TfidfVectorizer - класс для преобразования текста в частотные векторы слов\n",
    "from sklearn.feature_extraction.text import TfidfVectorizer"
   ]
  },
  {
   "cell_type": "code",
   "execution_count": 23,
   "id": "c2f32798",
   "metadata": {},
   "outputs": [
    {
     "data": {
      "text/plain": [
       "(2000, 8412)"
      ]
     },
     "execution_count": 23,
     "metadata": {},
     "output_type": "execute_result"
    }
   ],
   "source": [
    "# Создание матрицы признаков\n",
    "tfidf = TfidfVectorizer()\n",
    "feature_matrix = tfidf.fit_transform(data['text_lemmed'])\n",
    "feature_matrix.toarray().shape"
   ]
  },
  {
   "cell_type": "markdown",
   "id": "37a8e309",
   "metadata": {},
   "source": [
    "## Уменьшение дисбаланса классов"
   ]
  },
  {
   "cell_type": "code",
   "execution_count": 26,
   "id": "3ecbbfdd",
   "metadata": {},
   "outputs": [],
   "source": [
    "#Увеличиваем минимальные классы путем копирования данных\n",
    "d1 = data.loc[(data['Категория'] == 5) | (data['Категория'] == 15) | (data['Категория'] == 13) | (data['Категория'] == 6)]\n",
    "d1 = pd.concat([d1,d1,d1,d1,d1,d1,d1,d1,d1,d1,d1,d1,d1,d1,d1,d1,d1,d1,d1,d1,d1,d1,d1,d1,d1,d1,d1,d1,d1,d1,d1,d1,\n",
    "               d1,d1,d1,d1,d1,d1,d1,d1,d1,d1,d1,d1,d1,d1,d1,d1,d1,d1,d1,d1,d1,d1,d1,d1,d1,d1,d1,d1,d1,d1,\n",
    "               d1,d1,d1,d1,d1,d1,d1,d1,d1,d1,d1,d1,d1,d1,d1], axis=0)\n",
    "\n",
    "\n",
    "d2 = data.loc[(data['Категория'] == 12) | (data['Категория'] == 14) | (data['Категория'] == 2) | (data['Категория'] == 9)]\n",
    "d2 = pd.concat([d2,d2,d2,d2,d2,d2,d2,d2,d2,d2,d2,d2,d2,d2,d2,d2,d2,d2,d2,d2,d2,d2,d2,\n",
    "                d2,d2,d2,d2,d2,d2,d2,d2,d2,d2,d2,d2,d2,d2,d2,d2,d2,d2,d2,d2,d2,d2,d2,d2,d2,d2,d2,d2,d2,d2,d2,d2,d2,\n",
    "               d2,d2,d2,d2,d2,d2,d2,d2,d2,d2,d2,d2,d2,d2,d2,d2,d2,d2,d2,d2,d2,d2,d2,d2,d2,d2,d2,d2,d2,d2,\n",
    "               d2,d2,d2,d2,d2,d2,d2,d2,d2,d2,d2,d2,d2,d2,d2,d2,d2,d2,d2,d2,d2,d2,d2,d2,d2,d2,d2,d2,d2,d2,d2,d2,d2,\n",
    "               d2,d2,d2,d2,d2,d2,d2,d2,d2,d2,d2,d2,d2,d2,d2,d2,d2,d2,d2,d2,d2,d2,d2,d2,d2,d2,d2,d2,d2,d2], axis=0)\n",
    "\n",
    "d3 = data.loc[(data['Категория'] == 1) | (data['Категория'] == 11) | (data['Категория'] == 7) | (data['Категория'] == 10)]\n",
    "d3 = pd.concat([d3, d3, d3, d3, d3, d3,d3, d3, d3], axis=0)\n",
    "\n",
    "dat = pd.concat([data, d1, d2, d3], axis=0)"
   ]
  },
  {
   "cell_type": "code",
   "execution_count": 27,
   "id": "e450bd74",
   "metadata": {},
   "outputs": [],
   "source": [
    "#Перемешиваем массив\n",
    "from sklearn.utils import shuffle\n",
    "dat = shuffle(dat)"
   ]
  },
  {
   "cell_type": "code",
   "execution_count": 28,
   "id": "a25fc925",
   "metadata": {},
   "outputs": [],
   "source": [
    "# Матрица признаков\n",
    "X = dat['text_lemmed']\n",
    "\n",
    "# Вектор значений целевых переменных\n",
    "y = dat['Категория']"
   ]
  },
  {
   "cell_type": "code",
   "execution_count": 30,
   "id": "58396e4d",
   "metadata": {},
   "outputs": [
    {
     "data": {
      "text/plain": [
       "{3: 0.4987051424343322,\n",
       " 1: 1.9030588235294117,\n",
       " 16: 3.193051717331228,\n",
       " 0: 0.9953236524735417,\n",
       " 6: 0.6099547511312218,\n",
       " 8: 3.4227676682183663,\n",
       " 4: 4.405228758169935,\n",
       " 13: 0.5545043192102016,\n",
       " 10: 0.9911764705882353,\n",
       " 11: 2.5040247678018575,\n",
       " 14: 0.7929411764705883,\n",
       " 7: 1.7620915032679738,\n",
       " 5: 0.5082956259426847,\n",
       " 15: 0.8713639301874596,\n",
       " 2: 1.0572549019607844,\n",
       " 9: 0.6343529411764706,\n",
       " 12: 3.171764705882353}"
      ]
     },
     "execution_count": 30,
     "metadata": {},
     "output_type": "execute_result"
    }
   ],
   "source": [
    "##Данные до сих пор имеют дисбаланс, поэтому дополнительно рассчитываем вес классов\n",
    "from sklearn.utils.class_weight import compute_class_weight\n",
    "\n",
    "weight = compute_class_weight(class_weight='balanced', classes=labels, y=y)\n",
    "weight = {labels[i]:weight[i] for i in range(len(labels))}\n",
    "weight"
   ]
  },
  {
   "cell_type": "code",
   "execution_count": 31,
   "id": "ad07adb2",
   "metadata": {},
   "outputs": [],
   "source": [
    "# Разбиение на обучающую выборку (70%) и тестовую выборку (25%)\n",
    "from sklearn.model_selection import train_test_split\n",
    "X_train, X_test, y_train, y_test = train_test_split(X, y, test_size=0.25)"
   ]
  },
  {
   "cell_type": "markdown",
   "id": "616cd2ad",
   "metadata": {},
   "source": [
    "## Логистическая регрессия (Logistic Regression)"
   ]
  },
  {
   "cell_type": "code",
   "execution_count": 37,
   "id": "8b8662d1",
   "metadata": {},
   "outputs": [],
   "source": [
    "# Загрузка логистической регрессии, при исследовании моделей показала оптимальный результат\n",
    "from sklearn.linear_model import LogisticRegression\n",
    "from sklearn.pipeline import Pipeline\n",
    "from sklearn.feature_extraction.text import TfidfTransformer\n",
    "from sklearn.metrics import accuracy_score\n",
    "from sklearn.metrics import classification_report\n",
    "\n",
    "logreg = Pipeline([('vect', CountVectorizer(ngram_range=(1,2))),\n",
    "                ('tfidf', TfidfTransformer()),\n",
    "                ('clf', LogisticRegression(n_jobs=-1, C=1e4, fit_intercept=True, class_weight=weight,\n",
    "                                          intercept_scaling=1,  max_iter=1000, multi_class='auto', penalty='l2',\n",
    "                                          random_state=42, solver='newton-cg', tol=0.001)),\n",
    "               ])"
   ]
  },
  {
   "cell_type": "code",
   "execution_count": 34,
   "id": "0225784f",
   "metadata": {},
   "outputs": [
    {
     "name": "stdout",
     "output_type": "stream",
     "text": [
      "Wall time: 15.8 s\n"
     ]
    },
    {
     "data": {
      "text/html": [
       "<style>#sk-container-id-1 {color: black;background-color: white;}#sk-container-id-1 pre{padding: 0;}#sk-container-id-1 div.sk-toggleable {background-color: white;}#sk-container-id-1 label.sk-toggleable__label {cursor: pointer;display: block;width: 100%;margin-bottom: 0;padding: 0.3em;box-sizing: border-box;text-align: center;}#sk-container-id-1 label.sk-toggleable__label-arrow:before {content: \"▸\";float: left;margin-right: 0.25em;color: #696969;}#sk-container-id-1 label.sk-toggleable__label-arrow:hover:before {color: black;}#sk-container-id-1 div.sk-estimator:hover label.sk-toggleable__label-arrow:before {color: black;}#sk-container-id-1 div.sk-toggleable__content {max-height: 0;max-width: 0;overflow: hidden;text-align: left;background-color: #f0f8ff;}#sk-container-id-1 div.sk-toggleable__content pre {margin: 0.2em;color: black;border-radius: 0.25em;background-color: #f0f8ff;}#sk-container-id-1 input.sk-toggleable__control:checked~div.sk-toggleable__content {max-height: 200px;max-width: 100%;overflow: auto;}#sk-container-id-1 input.sk-toggleable__control:checked~label.sk-toggleable__label-arrow:before {content: \"▾\";}#sk-container-id-1 div.sk-estimator input.sk-toggleable__control:checked~label.sk-toggleable__label {background-color: #d4ebff;}#sk-container-id-1 div.sk-label input.sk-toggleable__control:checked~label.sk-toggleable__label {background-color: #d4ebff;}#sk-container-id-1 input.sk-hidden--visually {border: 0;clip: rect(1px 1px 1px 1px);clip: rect(1px, 1px, 1px, 1px);height: 1px;margin: -1px;overflow: hidden;padding: 0;position: absolute;width: 1px;}#sk-container-id-1 div.sk-estimator {font-family: monospace;background-color: #f0f8ff;border: 1px dotted black;border-radius: 0.25em;box-sizing: border-box;margin-bottom: 0.5em;}#sk-container-id-1 div.sk-estimator:hover {background-color: #d4ebff;}#sk-container-id-1 div.sk-parallel-item::after {content: \"\";width: 100%;border-bottom: 1px solid gray;flex-grow: 1;}#sk-container-id-1 div.sk-label:hover label.sk-toggleable__label {background-color: #d4ebff;}#sk-container-id-1 div.sk-serial::before {content: \"\";position: absolute;border-left: 1px solid gray;box-sizing: border-box;top: 0;bottom: 0;left: 50%;z-index: 0;}#sk-container-id-1 div.sk-serial {display: flex;flex-direction: column;align-items: center;background-color: white;padding-right: 0.2em;padding-left: 0.2em;position: relative;}#sk-container-id-1 div.sk-item {position: relative;z-index: 1;}#sk-container-id-1 div.sk-parallel {display: flex;align-items: stretch;justify-content: center;background-color: white;position: relative;}#sk-container-id-1 div.sk-item::before, #sk-container-id-1 div.sk-parallel-item::before {content: \"\";position: absolute;border-left: 1px solid gray;box-sizing: border-box;top: 0;bottom: 0;left: 50%;z-index: -1;}#sk-container-id-1 div.sk-parallel-item {display: flex;flex-direction: column;z-index: 1;position: relative;background-color: white;}#sk-container-id-1 div.sk-parallel-item:first-child::after {align-self: flex-end;width: 50%;}#sk-container-id-1 div.sk-parallel-item:last-child::after {align-self: flex-start;width: 50%;}#sk-container-id-1 div.sk-parallel-item:only-child::after {width: 0;}#sk-container-id-1 div.sk-dashed-wrapped {border: 1px dashed gray;margin: 0 0.4em 0.5em 0.4em;box-sizing: border-box;padding-bottom: 0.4em;background-color: white;}#sk-container-id-1 div.sk-label label {font-family: monospace;font-weight: bold;display: inline-block;line-height: 1.2em;}#sk-container-id-1 div.sk-label-container {text-align: center;}#sk-container-id-1 div.sk-container {/* jupyter's `normalize.less` sets `[hidden] { display: none; }` but bootstrap.min.css set `[hidden] { display: none !important; }` so we also need the `!important` here to be able to override the default hidden behavior on the sphinx rendered scikit-learn.org. See: https://github.com/scikit-learn/scikit-learn/issues/21755 */display: inline-block !important;position: relative;}#sk-container-id-1 div.sk-text-repr-fallback {display: none;}</style><div id=\"sk-container-id-1\" class=\"sk-top-container\"><div class=\"sk-text-repr-fallback\"><pre>Pipeline(steps=[(&#x27;vect&#x27;, CountVectorizer(ngram_range=(1, 2))),\n",
       "                (&#x27;tfidf&#x27;, TfidfTransformer()),\n",
       "                (&#x27;clf&#x27;,\n",
       "                 LogisticRegression(C=10000.0,\n",
       "                                    class_weight={0: 0.9953236524735417,\n",
       "                                                  1: 1.9030588235294117,\n",
       "                                                  2: 1.0572549019607844,\n",
       "                                                  3: 0.4987051424343322,\n",
       "                                                  4: 4.405228758169935,\n",
       "                                                  5: 0.5082956259426847,\n",
       "                                                  6: 0.6099547511312218,\n",
       "                                                  7: 1.7620915032679738,\n",
       "                                                  8: 3.4227676682183663,\n",
       "                                                  9: 0.6343529411764706,\n",
       "                                                  10: 0.9911764705882353,\n",
       "                                                  11: 2.5040247678018575,\n",
       "                                                  12: 3.171764705882353,\n",
       "                                                  13: 0.5545043192102016,\n",
       "                                                  14: 0.7929411764705883,\n",
       "                                                  15: 0.8713639301874596,\n",
       "                                                  16: 3.193051717331228},\n",
       "                                    max_iter=1000, n_jobs=-1, random_state=42,\n",
       "                                    solver=&#x27;newton-cg&#x27;, tol=0.001))])</pre><b>In a Jupyter environment, please rerun this cell to show the HTML representation or trust the notebook. <br />On GitHub, the HTML representation is unable to render, please try loading this page with nbviewer.org.</b></div><div class=\"sk-container\" hidden><div class=\"sk-item sk-dashed-wrapped\"><div class=\"sk-label-container\"><div class=\"sk-label sk-toggleable\"><input class=\"sk-toggleable__control sk-hidden--visually\" id=\"sk-estimator-id-1\" type=\"checkbox\" ><label for=\"sk-estimator-id-1\" class=\"sk-toggleable__label sk-toggleable__label-arrow\">Pipeline</label><div class=\"sk-toggleable__content\"><pre>Pipeline(steps=[(&#x27;vect&#x27;, CountVectorizer(ngram_range=(1, 2))),\n",
       "                (&#x27;tfidf&#x27;, TfidfTransformer()),\n",
       "                (&#x27;clf&#x27;,\n",
       "                 LogisticRegression(C=10000.0,\n",
       "                                    class_weight={0: 0.9953236524735417,\n",
       "                                                  1: 1.9030588235294117,\n",
       "                                                  2: 1.0572549019607844,\n",
       "                                                  3: 0.4987051424343322,\n",
       "                                                  4: 4.405228758169935,\n",
       "                                                  5: 0.5082956259426847,\n",
       "                                                  6: 0.6099547511312218,\n",
       "                                                  7: 1.7620915032679738,\n",
       "                                                  8: 3.4227676682183663,\n",
       "                                                  9: 0.6343529411764706,\n",
       "                                                  10: 0.9911764705882353,\n",
       "                                                  11: 2.5040247678018575,\n",
       "                                                  12: 3.171764705882353,\n",
       "                                                  13: 0.5545043192102016,\n",
       "                                                  14: 0.7929411764705883,\n",
       "                                                  15: 0.8713639301874596,\n",
       "                                                  16: 3.193051717331228},\n",
       "                                    max_iter=1000, n_jobs=-1, random_state=42,\n",
       "                                    solver=&#x27;newton-cg&#x27;, tol=0.001))])</pre></div></div></div><div class=\"sk-serial\"><div class=\"sk-item\"><div class=\"sk-estimator sk-toggleable\"><input class=\"sk-toggleable__control sk-hidden--visually\" id=\"sk-estimator-id-2\" type=\"checkbox\" ><label for=\"sk-estimator-id-2\" class=\"sk-toggleable__label sk-toggleable__label-arrow\">CountVectorizer</label><div class=\"sk-toggleable__content\"><pre>CountVectorizer(ngram_range=(1, 2))</pre></div></div></div><div class=\"sk-item\"><div class=\"sk-estimator sk-toggleable\"><input class=\"sk-toggleable__control sk-hidden--visually\" id=\"sk-estimator-id-3\" type=\"checkbox\" ><label for=\"sk-estimator-id-3\" class=\"sk-toggleable__label sk-toggleable__label-arrow\">TfidfTransformer</label><div class=\"sk-toggleable__content\"><pre>TfidfTransformer()</pre></div></div></div><div class=\"sk-item\"><div class=\"sk-estimator sk-toggleable\"><input class=\"sk-toggleable__control sk-hidden--visually\" id=\"sk-estimator-id-4\" type=\"checkbox\" ><label for=\"sk-estimator-id-4\" class=\"sk-toggleable__label sk-toggleable__label-arrow\">LogisticRegression</label><div class=\"sk-toggleable__content\"><pre>LogisticRegression(C=10000.0,\n",
       "                   class_weight={0: 0.9953236524735417, 1: 1.9030588235294117,\n",
       "                                 2: 1.0572549019607844, 3: 0.4987051424343322,\n",
       "                                 4: 4.405228758169935, 5: 0.5082956259426847,\n",
       "                                 6: 0.6099547511312218, 7: 1.7620915032679738,\n",
       "                                 8: 3.4227676682183663, 9: 0.6343529411764706,\n",
       "                                 10: 0.9911764705882353, 11: 2.5040247678018575,\n",
       "                                 12: 3.171764705882353, 13: 0.5545043192102016,\n",
       "                                 14: 0.7929411764705883, 15: 0.8713639301874596,\n",
       "                                 16: 3.193051717331228},\n",
       "                   max_iter=1000, n_jobs=-1, random_state=42,\n",
       "                   solver=&#x27;newton-cg&#x27;, tol=0.001)</pre></div></div></div></div></div></div></div>"
      ],
      "text/plain": [
       "Pipeline(steps=[('vect', CountVectorizer(ngram_range=(1, 2))),\n",
       "                ('tfidf', TfidfTransformer()),\n",
       "                ('clf',\n",
       "                 LogisticRegression(C=10000.0,\n",
       "                                    class_weight={0: 0.9953236524735417,\n",
       "                                                  1: 1.9030588235294117,\n",
       "                                                  2: 1.0572549019607844,\n",
       "                                                  3: 0.4987051424343322,\n",
       "                                                  4: 4.405228758169935,\n",
       "                                                  5: 0.5082956259426847,\n",
       "                                                  6: 0.6099547511312218,\n",
       "                                                  7: 1.7620915032679738,\n",
       "                                                  8: 3.4227676682183663,\n",
       "                                                  9: 0.6343529411764706,\n",
       "                                                  10: 0.9911764705882353,\n",
       "                                                  11: 2.5040247678018575,\n",
       "                                                  12: 3.171764705882353,\n",
       "                                                  13: 0.5545043192102016,\n",
       "                                                  14: 0.7929411764705883,\n",
       "                                                  15: 0.8713639301874596,\n",
       "                                                  16: 3.193051717331228},\n",
       "                                    max_iter=1000, n_jobs=-1, random_state=42,\n",
       "                                    solver='newton-cg', tol=0.001))])"
      ]
     },
     "execution_count": 34,
     "metadata": {},
     "output_type": "execute_result"
    }
   ],
   "source": [
    "%%time\n",
    "logreg.fit(X_train, y_train) # Обучение модели"
   ]
  },
  {
   "cell_type": "code",
   "execution_count": 35,
   "id": "f49a07f5",
   "metadata": {},
   "outputs": [
    {
     "name": "stdout",
     "output_type": "stream",
     "text": [
      "Wall time: 190 ms\n"
     ]
    }
   ],
   "source": [
    "%%time\n",
    "y_pred = logreg.predict(X_test)   # Предсказание на тестовых данных"
   ]
  },
  {
   "cell_type": "code",
   "execution_count": 38,
   "id": "4a95fb42",
   "metadata": {},
   "outputs": [
    {
     "name": "stdout",
     "output_type": "stream",
     "text": [
      "accuracy 0.9713155291790306\n",
      "              precision    recall  f1-score   support\n",
      "\n",
      "           0       0.78      0.89      0.83       118\n",
      "           1       1.00      1.00      1.00        67\n",
      "           2       1.00      1.00      1.00       126\n",
      "           3       0.90      0.87      0.88       223\n",
      "           4       1.00      0.86      0.93        22\n",
      "           5       1.00      1.00      1.00       230\n",
      "           6       1.00      1.00      1.00       199\n",
      "           7       0.99      1.00      0.99        76\n",
      "           8       0.94      0.89      0.92        37\n",
      "           9       1.00      1.00      1.00       199\n",
      "          10       0.99      1.00      1.00       113\n",
      "          11       1.00      1.00      1.00        53\n",
      "          12       1.00      1.00      1.00        29\n",
      "          13       1.00      1.00      1.00       214\n",
      "          14       1.00      1.00      1.00       146\n",
      "          15       0.99      1.00      1.00       136\n",
      "          16       0.93      0.74      0.82        34\n",
      "\n",
      "    accuracy                           0.97      2022\n",
      "   macro avg       0.97      0.96      0.96      2022\n",
      "weighted avg       0.97      0.97      0.97      2022\n",
      "\n"
     ]
    }
   ],
   "source": [
    "# Оценка точности классификации\n",
    "print('accuracy %s' % accuracy_score(y_pred, y_test))\n",
    "print(classification_report(y_test, y_pred))"
   ]
  },
  {
   "cell_type": "code",
   "execution_count": null,
   "id": "b99dae9f",
   "metadata": {},
   "outputs": [],
   "source": []
  },
  {
   "cell_type": "code",
   "execution_count": null,
   "id": "0578df97",
   "metadata": {},
   "outputs": [],
   "source": []
  }
 ],
 "metadata": {
  "kernelspec": {
   "display_name": "Python 3 (ipykernel)",
   "language": "python",
   "name": "python3"
  },
  "language_info": {
   "codemirror_mode": {
    "name": "ipython",
    "version": 3
   },
   "file_extension": ".py",
   "mimetype": "text/x-python",
   "name": "python",
   "nbconvert_exporter": "python",
   "pygments_lexer": "ipython3",
   "version": "3.9.7"
  }
 },
 "nbformat": 4,
 "nbformat_minor": 5
}
