{
 "cells": [
  {
   "cell_type": "code",
   "execution_count": null,
   "metadata": {},
   "outputs": [],
   "source": [
    "import sqlite3\n",
    "\n",
    "assigneeList = []\n",
    "\n",
    "connect = sqlite3.connect('tasks.db')\n",
    "cursor = connect.cursor()\n",
    "    \n",
    "query1 = 'SELECT key, assignee FROM st_tasks'\n",
    "query2 = 'SELECT assignee, COUNT(key) FROM st_tasks GROUP BY assignee'\n",
    "\n",
    "\n",
    "\n",
    "connect.commit()\n",
    "    "
   ]
  }
 ],
 "metadata": {
  "kernelspec": {
   "display_name": "Python 3",
   "language": "python",
   "name": "python3"
  },
  "language_info": {
   "codemirror_mode": {
    "name": "ipython",
    "version": 3
   },
   "file_extension": ".py",
   "mimetype": "text/x-python",
   "name": "python",
   "nbconvert_exporter": "python",
   "pygments_lexer": "ipython3",
   "version": "3.7.4"
  }
 },
 "nbformat": 4,
 "nbformat_minor": 2
}
